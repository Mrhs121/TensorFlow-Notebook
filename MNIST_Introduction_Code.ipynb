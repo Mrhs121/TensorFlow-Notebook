{
 "cells": [
  {
   "cell_type": "code",
   "execution_count": 16,
   "metadata": {},
   "outputs": [
    {
     "name": "stdout",
     "output_type": "stream",
     "text": [
      "Extracting MNIST_data/train-images-idx3-ubyte.gz\n",
      "Extracting MNIST_data/train-labels-idx1-ubyte.gz\n",
      "Extracting MNIST_data/t10k-images-idx3-ubyte.gz\n",
      "Extracting MNIST_data/t10k-labels-idx1-ubyte.gz\n",
      "W and b : [[0. 0. 0. ... 0. 0. 0.]\n",
      " [0. 0. 0. ... 0. 0. 0.]\n",
      " [0. 0. 0. ... 0. 0. 0.]\n",
      " ...\n",
      " [0. 0. 0. ... 0. 0. 0.]\n",
      " [0. 0. 0. ... 0. 0. 0.]\n",
      " [0. 0. 0. ... 0. 0. 0.]] [-1.0534542   0.9049066   0.24249396 -0.60114217  0.01192631  2.4154193\n",
      " -0.39152515  1.4117808  -2.4513316  -0.48906305]\n",
      "0.9206\n"
     ]
    }
   ],
   "source": [
    "from tensorflow.examples.tutorials.mnist import input_data\n",
    "mnist = input_data.read_data_sets('MNIST_data',one_hot=True)\n",
    "\n",
    "import tensorflow as tf\n",
    "sess = tf.InteractiveSession()\n",
    "\n",
    "x = tf.placeholder(\"float\",shape=[None,784])\n",
    "y_ = tf.placeholder(\"float\",shape=[None,10])\n",
    "\n",
    "# 因为这里没有隐藏层，只有输入与输出层，所以共有 784*10个权重需要训练\n",
    "W = tf.Variable(tf.zeros([784,10]))\n",
    "# 每个输出神经元都有一个偏置，即共有10个偏置需要训练\n",
    "b = tf.Variable(tf.zeros([10]))\n",
    "\n",
    "# tf中变量需要经过session初始化之后才能使用\n",
    "sess.run(tf.initialize_all_variables())\n",
    "\n",
    "# 类别预测\n",
    "\n",
    "\n",
    "y = tf.nn.softmax(tf.matmul(x,W)+b)\n",
    "\n",
    "\n",
    "# 使用交叉熵作为损失函数，这里计算的是整个minibanch的交叉熵\n",
    "cross_entropy = -tf.reduce_sum(y_*tf.log(y))\n",
    "\n",
    "# 使用梯度下降来优化目标函数\n",
    "train_step = tf.train.GradientDescentOptimizer(0.01).minimize(cross_entropy)\n",
    "\n",
    "\n",
    "for i in range(10000):\n",
    "    batch = mnist.train.next_batch(50)\n",
    "#   下面这两种写法的作用是一样的\n",
    "#     sess.run(train_step,feed_dict={x:batch[0],y_:batch[1]})\n",
    "    train_step.run(feed_dict={x:batch[0],y_:batch[1]})\n",
    "\n",
    "# 此时 w与b均已经训练好了\n",
    "print(\"W and b :\",sess.run(W),sess.run(b))\n",
    "\n",
    "# 图片类别的标签为[0,1,0,...] ，argmax直接拿到1的下标\n",
    "correct_prediction = tf.equal(tf.argmax(y,1),tf.argmax(y_,1))\n",
    "\n",
    "# 将bool类型的数据转换成float方便计算\n",
    "accuracy = tf.reduce_mean(tf.cast(correct_prediction,\"float\"))\n",
    "\n",
    "\n",
    "# 前面的操作都是定义图计算，eval相当于sess.run(),此时才启动计算\n",
    "print(accuracy.eval(feed_dict={x:mnist.test.images,y_:mnist.test.labels}))"
   ]
  },
  {
   "cell_type": "code",
   "execution_count": null,
   "metadata": {},
   "outputs": [],
   "source": []
  }
 ],
 "metadata": {
  "kernelspec": {
   "display_name": "Python 3",
   "language": "python",
   "name": "python3"
  },
  "language_info": {
   "codemirror_mode": {
    "name": "ipython",
    "version": 3
   },
   "file_extension": ".py",
   "mimetype": "text/x-python",
   "name": "python",
   "nbconvert_exporter": "python",
   "pygments_lexer": "ipython3",
   "version": "3.7.4"
  }
 },
 "nbformat": 4,
 "nbformat_minor": 2
}
